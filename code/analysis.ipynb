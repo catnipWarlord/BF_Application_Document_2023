{
 "cells": [
  {
   "cell_type": "code",
   "execution_count": 7,
   "metadata": {},
   "outputs": [],
   "source": [
    "import pandas as pd \n",
    "import os\n",
    "\n",
    "import logging\n",
    "\n",
    "#create a logger\n",
    "logger = logging.getLogger('mylogger')\n",
    "logger.setLevel(logging.INFO)\n",
    "\n",
    "log_file_path = '/workspaces/BF_Application_Document_2023/logs/mylog.log'\n",
    "\n",
    "#check for existing file, if TRUE, remove the existing file\n",
    "if os.path.isfile(log_file_path):\n",
    "     os.remove(log_file_path)\n",
    "\n",
    "\n",
    "\n",
    "\n",
    "handler = logging.FileHandler(log_file_path)\n",
    "formatter = logging.Formatter('%(asctime)s - %(name)s - %(levelname)s - %(message)s')\n",
    "handler.setFormatter(formatter)\n",
    "logger.addHandler(handler)\n",
    "\n",
    "\n",
    "logger.info(\"Start Loading Data Files\")\n",
    "store_level_data = pd.read_excel('/workspaces/BF_Application_Document_2023/data/stores (1).xlsx')\n",
    "demographics_data = pd.read_excel('/workspaces/BF_Application_Document_2023/data/demographics (1).xlsx')\n",
    "logger.info(\"Done Loading Data Files\")"
   ]
  },
  {
   "cell_type": "code",
   "execution_count": 4,
   "metadata": {},
   "outputs": [
    {
     "name": "stdout",
     "output_type": "stream",
     "text": [
      "  state      id                       store   \n",
      "0    AL   49802         Publix Super Market  \\\n",
      "1    AL  378542  Alabama State Liquor Store   \n",
      "2    AL  496879           RJs Liquor & Wine   \n",
      "3    AL  514115         Flagstone Food Mart   \n",
      "4    AL  537714               Little Steves   \n",
      "\n",
      "                                       char  population  mean_20_inc   \n",
      "0   1104 CULLMAN SHOPPING CTR NW,CULLMAN,AL      4604.0       7767.0  \\\n",
      "1            2501 GOVERNMENT BLVD,MOBILE,AL      3017.0       7960.0   \n",
      "2  25241 PERDIDO BEACH BLVD,ORANGE BEACH,AL      3600.0      11666.0   \n",
      "3        8066 MADISON BLVD STE A,MADISON,AL      7351.0      17821.0   \n",
      "4                1320 N PINE ST,FLORENCE,AL      3248.0       4769.0   \n",
      "\n",
      "   mean_40_60_inc  mean_80_inc  unemp_perc  white_perc  ...  hisp_lat_perc   \n",
      "0         36809.0     125530.0    0.061563    0.880973  ...       0.067550  \\\n",
      "1         26821.0      83835.0    0.148175    0.159761  ...       0.024859   \n",
      "2         42600.0     139780.0    0.113911    0.856389  ...       0.024722   \n",
      "3         60721.0     163740.0    0.062795    0.683853  ...       0.073595   \n",
      "4         30753.0     129329.0    0.048340    0.794643  ...       0.010468   \n",
      "\n",
      "   m_21_34_perc  m_35_64_perc  m_65_ov_perc  f_21_34_perc  f_35_64_perc   \n",
      "0      0.094917      0.160295      0.071025      0.084275      0.200261  \\\n",
      "1      0.071594      0.181306      0.023865      0.029831      0.279085   \n",
      "2      0.089444      0.160833      0.099722      0.107222      0.191667   \n",
      "3      0.125833      0.185961      0.031016      0.164467      0.201197   \n",
      "4      0.179495      0.169643      0.064655      0.098522      0.136700   \n",
      "\n",
      "   f_65_ov_perc  mean_40_60_inc_sq  pop_dens  city_pop  \n",
      "0      0.095135       1.354902e+09  0.000491   10660.0  \n",
      "1      0.060325       7.193660e+08  0.001217  134120.0  \n",
      "2      0.089167       1.810000e+09  0.000105   18109.0  \n",
      "3      0.040539       3.687040e+09  0.000823   71613.0  \n",
      "4      0.124692       9.457470e+08  0.000593   63927.0  \n",
      "\n",
      "[5 rows x 24 columns]\n"
     ]
    }
   ],
   "source": [
    "print(store_level_data.head())\n",
    "\n",
    "def describe_columns(df):\n",
    "    for x in list(df):\n",
    "        logger.info(\"Summary Stats of {0}: {1}\".format(x,dict(df[x].describe())))"
   ]
  },
  {
   "cell_type": "code",
   "execution_count": null,
   "metadata": {},
   "outputs": [],
   "source": [
    "# Quick Check of Data and Data Quality\n",
    "\n",
    "# data size\n",
    "logging."
   ]
  }
 ],
 "metadata": {
  "kernelspec": {
   "display_name": "Python 3 (ipykernel)",
   "language": "python",
   "name": "python3"
  },
  "language_info": {
   "codemirror_mode": {
    "name": "ipython",
    "version": 3
   },
   "file_extension": ".py",
   "mimetype": "text/x-python",
   "name": "python",
   "nbconvert_exporter": "python",
   "pygments_lexer": "ipython3",
   "version": "3.10.4"
  },
  "orig_nbformat": 4
 },
 "nbformat": 4,
 "nbformat_minor": 2
}
